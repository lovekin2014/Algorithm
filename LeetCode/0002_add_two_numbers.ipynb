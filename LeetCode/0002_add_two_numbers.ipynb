{
 "cells": [
  {
   "cell_type": "markdown",
   "metadata": {},
   "source": [
    "问题：两个非空链表分别表示两个非负整数，链表中数字倒序存放，并且每个节点只存放一个数字；求两个整数的和并以类似链表的形式返回。  \n",
    "例子：   \n",
    "In：（2 -> 4 -> 3） + (5 -> 6 ->4)  \n",
    "Out: (7 -> 0 -> 8)  \n",
    "Explanation: 342 + 465 = 807  "
   ]
  },
  {
   "cell_type": "code",
   "execution_count": 2,
   "metadata": {},
   "outputs": [],
   "source": [
    "# define single list\n",
    "class ListNode:\n",
    "    def __init__(self, x):\n",
    "        self.val = x,\n",
    "        self.next = None\n",
    "# 解决办法:全部变成数字加法再变换回去\n",
    "# 时间复杂度 O(N), 空间复杂度O(N)\n",
    "class Solution1:\n",
    "    def AddTwoNumbers(self, l1, l2):\n",
    "        '''\n",
    "        Add two numbers.\n",
    "        params:\n",
    "            l1: ListNode.\n",
    "            l2: ListNode.\n",
    "        return:\n",
    "            ListNode\n",
    "        '''\n",
    "        if not l1:\n",
    "            return l2\n",
    "        if not l2:\n",
    "            return l1\n",
    "        val1, val2 = [str(l1.val)], [str(l2.val)]\n",
    "        while l1.next:\n",
    "            val1.append(str(l1.next.val))\n",
    "            l1 = l1.next\n",
    "        while l2.next:\n",
    "            val2.append(str(l2.next.val))\n",
    "            l2 = l2.next\n",
    "        num1 = int(''.join(val1))\n",
    "        num2 = int(''.join(val2))\n",
    "        res = num1 + num2\n",
    "        tmp = str(res)[::-1]\n",
    "        r_list = ListNode(tmp[0])\n",
    "        for i in range(1,len(tmp)):\n",
    "            r_list.next = ListNode(tmp[i])\n",
    "            r_list = r_list.next\n",
    "        return r_list\n",
    "        "
   ]
  },
  {
   "cell_type": "code",
   "execution_count": null,
   "metadata": {},
   "outputs": [],
   "source": [
    "# 时间复杂度 O(N), 空间复杂度O(N)\n",
    "class Solution2:\n",
    "    def AddTwoNumbers(self, l1, l2):\n",
    "        '''\n",
    "        Add two numbers.\n",
    "        params:\n",
    "            l1: ListNode.\n",
    "            l2: ListNode.\n",
    "        return:\n",
    "            ListNode.\n",
    "        '''\n",
    "        if not l1 and not l2:\n",
    "            return \n",
    "        elif not (l2 and l1):\n",
    "            return l1 or l2\n",
    "        else:\n",
    "            if l1.val + l2.val < 10:\n",
    "                l3 = ListNode(l1.val + l2.val)\n",
    "                l3.next = self.AddTwoNumbers(l1.next, l2.next)\n",
    "            else:\n",
    "                l3 = ListNode(l1.val + l2.val - 10)\n",
    "                l3.next = self.addTwoNumbers(l1.next, self.addTwoNumbers(l2.next, ListNode(1)))\n",
    "            return l3"
   ]
  }
 ],
 "metadata": {
  "kernelspec": {
   "display_name": "Python 3",
   "language": "python",
   "name": "python3"
  },
  "language_info": {
   "codemirror_mode": {
    "name": "ipython",
    "version": 3
   },
   "file_extension": ".py",
   "mimetype": "text/x-python",
   "name": "python",
   "nbconvert_exporter": "python",
   "pygments_lexer": "ipython3",
   "version": "3.6.8"
  }
 },
 "nbformat": 4,
 "nbformat_minor": 2
}
