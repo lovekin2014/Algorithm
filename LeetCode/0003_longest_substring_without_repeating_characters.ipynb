{
 "cells": [
  {
   "cell_type": "markdown",
   "metadata": {},
   "source": [
    "# Longest Substring Without Repeating Characters\n",
    "\n",
    "Given a string, find the length of the longest substring without repeating characters.  \n",
    "\n",
    "Example 1:  \n",
    "Input: 'abcabcbb'  \n",
    "Output: 3\n",
    "Explanation: The answer is 'abc', with the length of 3"
   ]
  },
  {
   "cell_type": "code",
   "execution_count": 1,
   "metadata": {},
   "outputs": [],
   "source": [
    "class Solutions:\n",
    "    def LengthOfLongestSubstring(self, s):\n",
    "        '''\n",
    "        params:\n",
    "            s: string\n",
    "        return: int\n",
    "        '''\n",
    "        if not s or len(s) == 0:\n",
    "            return 0\n",
    "        res, lookup = 0, set()\n",
    "        r, l = 0, 0\n",
    "        while r < len(s) or l < len(s):\n",
    "            if s[r] not in lookup:\n",
    "                lookup.add(s[r])\n",
    "                res = max(res, r - l + 1)\n",
    "                r += 1\n",
    "            else:\n",
    "                lookup.discard(s[l])\n",
    "                l += 1\n",
    "        return res"
   ]
  },
  {
   "cell_type": "code",
   "execution_count": null,
   "metadata": {},
   "outputs": [],
   "source": [
    "class Solutions1:\n",
    "    def LengthOfLongestSubstring(self, s):\n",
    "        '''\n",
    "        params:\n",
    "            s: string.\n",
    "        return: int\n",
    "        '''\n",
    "        res, start = 0, 0\n",
    "        map = {}\n",
    "        for r in range(len(s)):\n",
    "            start = max(start, map.get(s[r], -1) + 1)\n",
    "            res = max(res, r - start + 1)\n",
    "            map[s[r]] = r\n",
    "        return res\n",
    "        "
   ]
  }
 ],
 "metadata": {
  "kernelspec": {
   "display_name": "Python 3",
   "language": "python",
   "name": "python3"
  },
  "language_info": {
   "codemirror_mode": {
    "name": "ipython",
    "version": 3
   },
   "file_extension": ".py",
   "mimetype": "text/x-python",
   "name": "python",
   "nbconvert_exporter": "python",
   "pygments_lexer": "ipython3",
   "version": "3.6.8"
  }
 },
 "nbformat": 4,
 "nbformat_minor": 2
}
